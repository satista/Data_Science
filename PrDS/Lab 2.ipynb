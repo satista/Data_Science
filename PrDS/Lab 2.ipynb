{
 "cells": [
  {
   "cell_type": "markdown",
   "metadata": {},
   "source": [
    "<h1>Lab 2 - Pandas and Numpy</h1>\n",
    "<h2>Part 1- Dataframes </h2>"
   ]
  },
  {
   "cell_type": "code",
   "execution_count": 163,
   "metadata": {},
   "outputs": [],
   "source": [
    "#Import all libraries required\n",
    "import pandas as pd\n",
    "import matplotlib.pyplot as plt\n",
    "import numpy as np\n",
    "from sklearn import preprocessing as prepr\n",
    "from pandas.api.types import is_numeric_dtype\n",
    "\n",
    "#Import titanic data- passenger data and ticker prices.\n",
    "pass_data = pd.read_csv(\"http://staff.city.ac.uk/~sbbk529/Teaching/Resources/INM430/passengerData.csv\")\n",
    "tick_data = pd.read_excel(\"http://staff.city.ac.uk/~sbbk529/Teaching/Resources/INM430/ticketPrices.xlsx\")"
   ]
  },
  {
   "cell_type": "code",
   "execution_count": 16,
   "metadata": {},
   "outputs": [],
   "source": [
    "#Merge the type dataframes together, when two columns have the same name,\n",
    "#does not need to state the column name to merge on but- it is done for good practise.\n",
    "passtick_prices = pass_data.merge(tick_data,on=\"TicketType\")"
   ]
  },
  {
   "cell_type": "code",
   "execution_count": 17,
   "metadata": {},
   "outputs": [
    {
     "name": "stdout",
     "output_type": "stream",
     "text": [
      "['Barkworth, Mr. Algernon Henry Wilson']\n"
     ]
    }
   ],
   "source": [
    "#Get the name of the oldest customer.\n",
    "print(pass_data[pass_data[\"Age\"] == pass_data.Age.max()][\"Name\"].values)"
   ]
  },
  {
   "cell_type": "code",
   "execution_count": 42,
   "metadata": {},
   "outputs": [
    {
     "data": {
      "image/png": "[encoded data removed]",
      "text/plain": [
       "<Figure size 432x288 with 1 Axes>"
      ]
     },
     "metadata": {
      "needs_background": "light"
     },
     "output_type": "display_data"
    }
   ],
   "source": [
    "#Scatter plot data Age vs Fare\n",
    "passtick_prices.plot(x=\"Age\",y=\"Fare\", kind=\"scatter\")\n",
    "plt.title(\"Age vs Fare for Railway tickets\")\n",
    "plt.show()"
   ]
  },
  {
   "cell_type": "code",
   "execution_count": 37,
   "metadata": {},
   "outputs": [
    {
     "data": {
      "image/png": "[encoded data removed]",
      "text/plain": [
       "<Figure size 432x288 with 1 Axes>"
      ]
     },
     "metadata": {
      "needs_background": "light"
     },
     "output_type": "display_data"
    }
   ],
   "source": [
    "#Plot only the data that shows female passengers aged 40 to 50 and who paid more than or equal to 40.\n",
    "tt_f40_to50 =  passtick_prices[(passtick_prices.Age >=40) & \n",
    "            (passtick_prices.Age<=50) &\n",
    "            (passtick_prices.Sex == \"female\") & \n",
    "            (passtick_prices.Fare >=40)]\n",
    "plt.scatter(data=tt_f40_to50,y=\"Fare\", x=\"Age\")\n",
    "plt.ylabel(\"Fare\")\n",
    "plt.xlabel(\"Age\")\n",
    "plt.title(\"Ticket Price vs Age: Female aged [40-50] paying 40 or more\")\n",
    "plt.show()"
   ]
  },
  {
   "cell_type": "markdown",
   "metadata": {},
   "source": [
    "<h2> Part 2- Missing Values </h2>\n",
    "<p> I will be working with a dataset of prices and survivors from the RMS Titanic.\n",
    "<br/>Dealing with missing values by filling them with mean and zeroes.</p>"
   ]
  },
  {
   "cell_type": "code",
   "execution_count": 20,
   "metadata": {},
   "outputs": [
    {
     "data": {
      "text/plain": [
       "PassengerId      0\n",
       "Survived         0\n",
       "Pclass           0\n",
       "Name             0\n",
       "Sex              0\n",
       "Age            177\n",
       "SibSp            0\n",
       "Parch            0\n",
       "Ticket           0\n",
       "Fare            46\n",
       "Cabin          687\n",
       "Embarked         2\n",
       "dtype: int64"
      ]
     },
     "execution_count": 20,
     "metadata": {},
     "output_type": "execute_result"
    }
   ],
   "source": [
    "#Load titanic dataset\n",
    "titanic = pd.read_csv(\"http://staff.city.ac.uk/~sbbk529/Teaching/Resources/INM430/titanicSurvival_m.csv\")\n",
    "#count the number of null columns\n",
    "titanic.isnull().sum()"
   ]
  },
  {
   "cell_type": "code",
   "execution_count": 21,
   "metadata": {},
   "outputs": [
    {
     "data": {
      "text/html": [
       "<div>\n",
       "<style scoped>\n",
       "    .dataframe tbody tr th:only-of-type {\n",
       "        vertical-align: middle;\n",
       "    }\n",
       "\n",
       "    .dataframe tbody tr th {\n",
       "        vertical-align: top;\n",
       "    }\n",
       "\n",
       "    .dataframe thead th {\n",
       "        text-align: right;\n",
       "    }\n",
       "</style>\n",
       "<table border=\"1\" class=\"dataframe\">\n",
       "  <thead>\n",
       "    <tr style=\"text-align: right;\">\n",
       "      <th></th>\n",
       "      <th>PassengerId</th>\n",
       "      <th>Survived</th>\n",
       "      <th>Pclass</th>\n",
       "      <th>Age</th>\n",
       "      <th>SibSp</th>\n",
       "      <th>Parch</th>\n",
       "      <th>Fare</th>\n",
       "    </tr>\n",
       "  </thead>\n",
       "  <tbody>\n",
       "    <tr>\n",
       "      <th>count</th>\n",
       "      <td>891.000000</td>\n",
       "      <td>891.000000</td>\n",
       "      <td>891.000000</td>\n",
       "      <td>714.000000</td>\n",
       "      <td>891.000000</td>\n",
       "      <td>891.000000</td>\n",
       "      <td>845.000000</td>\n",
       "    </tr>\n",
       "    <tr>\n",
       "      <th>mean</th>\n",
       "      <td>446.000000</td>\n",
       "      <td>0.383838</td>\n",
       "      <td>2.308642</td>\n",
       "      <td>29.699118</td>\n",
       "      <td>0.523008</td>\n",
       "      <td>0.381594</td>\n",
       "      <td>32.304319</td>\n",
       "    </tr>\n",
       "    <tr>\n",
       "      <th>std</th>\n",
       "      <td>257.353842</td>\n",
       "      <td>0.486592</td>\n",
       "      <td>0.836071</td>\n",
       "      <td>14.526497</td>\n",
       "      <td>1.102743</td>\n",
       "      <td>0.806057</td>\n",
       "      <td>49.792612</td>\n",
       "    </tr>\n",
       "    <tr>\n",
       "      <th>min</th>\n",
       "      <td>1.000000</td>\n",
       "      <td>0.000000</td>\n",
       "      <td>1.000000</td>\n",
       "      <td>0.420000</td>\n",
       "      <td>0.000000</td>\n",
       "      <td>0.000000</td>\n",
       "      <td>0.000000</td>\n",
       "    </tr>\n",
       "    <tr>\n",
       "      <th>25%</th>\n",
       "      <td>223.500000</td>\n",
       "      <td>0.000000</td>\n",
       "      <td>2.000000</td>\n",
       "      <td>20.125000</td>\n",
       "      <td>0.000000</td>\n",
       "      <td>0.000000</td>\n",
       "      <td>7.895800</td>\n",
       "    </tr>\n",
       "    <tr>\n",
       "      <th>50%</th>\n",
       "      <td>446.000000</td>\n",
       "      <td>0.000000</td>\n",
       "      <td>3.000000</td>\n",
       "      <td>28.000000</td>\n",
       "      <td>0.000000</td>\n",
       "      <td>0.000000</td>\n",
       "      <td>14.454200</td>\n",
       "    </tr>\n",
       "    <tr>\n",
       "      <th>75%</th>\n",
       "      <td>668.500000</td>\n",
       "      <td>1.000000</td>\n",
       "      <td>3.000000</td>\n",
       "      <td>38.000000</td>\n",
       "      <td>1.000000</td>\n",
       "      <td>0.000000</td>\n",
       "      <td>31.275000</td>\n",
       "    </tr>\n",
       "    <tr>\n",
       "      <th>max</th>\n",
       "      <td>891.000000</td>\n",
       "      <td>1.000000</td>\n",
       "      <td>3.000000</td>\n",
       "      <td>80.000000</td>\n",
       "      <td>8.000000</td>\n",
       "      <td>6.000000</td>\n",
       "      <td>512.329200</td>\n",
       "    </tr>\n",
       "  </tbody>\n",
       "</table>\n",
       "</div>"
      ],
      "text/plain": [
       "       PassengerId    Survived      Pclass         Age       SibSp  \\\n",
       "count   891.000000  891.000000  891.000000  714.000000  891.000000   \n",
       "mean    446.000000    0.383838    2.308642   29.699118    0.523008   \n",
       "std     257.353842    0.486592    0.836071   14.526497    1.102743   \n",
       "min       1.000000    0.000000    1.000000    0.420000    0.000000   \n",
       "25%     223.500000    0.000000    2.000000   20.125000    0.000000   \n",
       "50%     446.000000    0.000000    3.000000   28.000000    0.000000   \n",
       "75%     668.500000    1.000000    3.000000   38.000000    1.000000   \n",
       "max     891.000000    1.000000    3.000000   80.000000    8.000000   \n",
       "\n",
       "            Parch        Fare  \n",
       "count  891.000000  845.000000  \n",
       "mean     0.381594   32.304319  \n",
       "std      0.806057   49.792612  \n",
       "min      0.000000    0.000000  \n",
       "25%      0.000000    7.895800  \n",
       "50%      0.000000   14.454200  \n",
       "75%      0.000000   31.275000  \n",
       "max      6.000000  512.329200  "
      ]
     },
     "execution_count": 21,
     "metadata": {},
     "output_type": "execute_result"
    }
   ],
   "source": [
    "#compute the means and other statistics\n",
    "titanic.describe()"
   ]
  },
  {
   "cell_type": "code",
   "execution_count": 22,
   "metadata": {
    "scrolled": true
   },
   "outputs": [
    {
     "data": {
      "text/plain": [
       "PassengerId      0\n",
       "Survived         0\n",
       "Pclass           0\n",
       "Name             0\n",
       "Sex              0\n",
       "Age              0\n",
       "SibSp            0\n",
       "Parch            0\n",
       "Ticket           0\n",
       "Fare             0\n",
       "Cabin          687\n",
       "Embarked         2\n",
       "dtype: int64"
      ]
     },
     "execution_count": 22,
     "metadata": {},
     "output_type": "execute_result"
    }
   ],
   "source": [
    "#create a new dataframe to fill NA values with 0\n",
    "titanic_zero = titanic.copy() \n",
    "\n",
    "#Fill age and fare na values with 0 \n",
    "titanic_zero[[\"Age\",\"Fare\"]] = titanic[[\"Age\",\"Fare\"]].fillna(0)\n",
    "#Check if complete\n",
    "titanic_zero.isnull().sum()"
   ]
  },
  {
   "cell_type": "code",
   "execution_count": 43,
   "metadata": {},
   "outputs": [
    {
     "data": {
      "image/png": "[encoded data removed]",
      "text/plain": [
       "<Figure size 432x288 with 1 Axes>"
      ]
     },
     "metadata": {
      "needs_background": "light"
     },
     "output_type": "display_data"
    }
   ],
   "source": [
    "#Plot this\n",
    "chart_zeroes = titanic_zero.plot(x=\"Age\", y=\"Fare\", kind=\"scatter\",title=\"Comparison of Titanic Fares by Age, taking null values as zero\")\n",
    "plt.show()"
   ]
  },
  {
   "cell_type": "code",
   "execution_count": 24,
   "metadata": {},
   "outputs": [
    {
     "name": "stdout",
     "output_type": "stream",
     "text": [
      "32.304318816568006\n",
      "29.69911764705882\n"
     ]
    }
   ],
   "source": [
    "#create a new dataframe where we will replace the NA values with the mean\n",
    "titanic_mean = titanic.copy()\n",
    "columns = [\"Fare\",\"Age\"]\n",
    "\n",
    "for i in columns:\n",
    "    print(titanic[i].mean())"
   ]
  },
  {
   "cell_type": "code",
   "execution_count": 25,
   "metadata": {},
   "outputs": [
    {
     "data": {
      "image/png": "[encoded data removed]",
      "text/plain": [
       "<Figure size 432x288 with 1 Axes>"
      ]
     },
     "metadata": {
      "needs_background": "light"
     },
     "output_type": "display_data"
    }
   ],
   "source": [
    "#replace the na values with the mean. \n",
    "for i in columns:\n",
    "    titanic_mean[i] = titanic[i].fillna(titanic[i].mean())\n",
    "chart_mean = titanic.plot(x=\"Age\",y=\"Fare\",kind=\"scatter\", title=\"Comparison of Titanic Fares by Age, taking null values as averages\")"
   ]
  },
  {
   "cell_type": "markdown",
   "metadata": {},
   "source": [
    "<h2>Part 3- Data Transformations</h2>\n",
    "<p>I will be using the World Health Organisation's Tuberculosis Data from 2014 to perform data transformations.</p>"
   ]
  },
  {
   "cell_type": "code",
   "execution_count": 55,
   "metadata": {},
   "outputs": [],
   "source": [
    "#Get the csv file into a dataframe.\n",
    "TB_data = pd.read_csv(\"http://staff.city.ac.uk/~sbbk529/Teaching/Resources/INM430/TB_burden_countries_2014-09-29.csv\")"
   ]
  },
  {
   "cell_type": "code",
   "execution_count": 357,
   "metadata": {
    "scrolled": false
   },
   "outputs": [
    {
     "data": {
      "text/html": [
       "<div>\n",
       "<style scoped>\n",
       "    .dataframe tbody tr th:only-of-type {\n",
       "        vertical-align: middle;\n",
       "    }\n",
       "\n",
       "    .dataframe tbody tr th {\n",
       "        vertical-align: top;\n",
       "    }\n",
       "\n",
       "    .dataframe thead th {\n",
       "        text-align: right;\n",
       "    }\n",
       "</style>\n",
       "<table border=\"1\" class=\"dataframe\">\n",
       "  <thead>\n",
       "    <tr style=\"text-align: right;\">\n",
       "      <th></th>\n",
       "      <th>variable_name</th>\n",
       "      <th>dataset</th>\n",
       "      <th>code_list</th>\n",
       "      <th>definition</th>\n",
       "      <th>columns</th>\n",
       "    </tr>\n",
       "  </thead>\n",
       "  <tbody>\n",
       "    <tr>\n",
       "      <th>0</th>\n",
       "      <td>country</td>\n",
       "      <td>Country identification</td>\n",
       "      <td>NaN</td>\n",
       "      <td>Country or territory name</td>\n",
       "      <td>country</td>\n",
       "    </tr>\n",
       "    <tr>\n",
       "      <th>1</th>\n",
       "      <td>iso_numeric</td>\n",
       "      <td>Country identification</td>\n",
       "      <td>NaN</td>\n",
       "      <td>ISO numeric country/territory code</td>\n",
       "      <td>iso_numeric</td>\n",
       "    </tr>\n",
       "    <tr>\n",
       "      <th>2</th>\n",
       "      <td>iso2</td>\n",
       "      <td>Country identification</td>\n",
       "      <td>NaN</td>\n",
       "      <td>ISO 2-character country/territory code</td>\n",
       "      <td>iso2</td>\n",
       "    </tr>\n",
       "    <tr>\n",
       "      <th>3</th>\n",
       "      <td>iso3</td>\n",
       "      <td>Country identification</td>\n",
       "      <td>NaN</td>\n",
       "      <td>ISO 3-character country/territory code</td>\n",
       "      <td>iso3</td>\n",
       "    </tr>\n",
       "    <tr>\n",
       "      <th>4</th>\n",
       "      <td>c_cdr</td>\n",
       "      <td>Estimates</td>\n",
       "      <td>NaN</td>\n",
       "      <td>Case detection rate (all forms) [also known as TB treatment coverage], percent</td>\n",
       "      <td>c_cdr</td>\n",
       "    </tr>\n",
       "  </tbody>\n",
       "</table>\n",
       "</div>"
      ],
      "text/plain": [
       "  variable_name                 dataset code_list  \\\n",
       "0       country  Country identification       NaN   \n",
       "1   iso_numeric  Country identification       NaN   \n",
       "2          iso2  Country identification       NaN   \n",
       "3          iso3  Country identification       NaN   \n",
       "4         c_cdr               Estimates       NaN   \n",
       "\n",
       "                                                                       definition  \\\n",
       "0                                                       Country or territory name   \n",
       "1                                              ISO numeric country/territory code   \n",
       "2                                          ISO 2-character country/territory code   \n",
       "3                                          ISO 3-character country/territory code   \n",
       "4  Case detection rate (all forms) [also known as TB treatment coverage], percent   \n",
       "\n",
       "       columns  \n",
       "0      country  \n",
       "1  iso_numeric  \n",
       "2         iso2  \n",
       "3         iso3  \n",
       "4        c_cdr  "
      ]
     },
     "execution_count": 357,
     "metadata": {},
     "output_type": "execute_result"
    }
   ],
   "source": [
    "#Get the column name, -full title definitions\n",
    "pd.set_option(\"display.max_colwidth\",None)\n",
    "data_def = pd.read_csv(\"https://extranet.who.int/tme/generateCSV.asp?ds=dictionary\")\n",
    "data_def.head() \n",
    "TB_data.columns\n",
    "data_def.merge(pd.DataFrame(TB_data.columns, columns=[\"columns\"]),left_on=\"variable_name\", right_on=\"columns\").head()"
   ]
  },
  {
   "cell_type": "code",
   "execution_count": 26,
   "metadata": {},
   "outputs": [
    {
     "data": {
      "text/plain": [
       "country                        0\n",
       "iso2                          23\n",
       "iso3                           0\n",
       "iso_numeric                    0\n",
       "g_whoregion                    0\n",
       "year                           0\n",
       "e_pop_num                      0\n",
       "e_prev_100k                   11\n",
       "e_prev_100k_lo                11\n",
       "e_prev_100k_hi                11\n",
       "e_prev_num                    11\n",
       "e_prev_num_lo                 11\n",
       "e_prev_num_hi                 11\n",
       "e_mort_exc_tbhiv_100k          1\n",
       "e_mort_exc_tbhiv_100k_lo       1\n",
       "e_mort_exc_tbhiv_100k_hi       1\n",
       "e_mort_exc_tbhiv_num           1\n",
       "e_mort_exc_tbhiv_num_lo        1\n",
       "e_mort_exc_tbhiv_num_hi        1\n",
       "source_mort                    1\n",
       "e_inc_100k                     1\n",
       "e_inc_100k_lo                  1\n",
       "e_inc_100k_hi                  1\n",
       "e_inc_num                      1\n",
       "e_inc_num_lo                   1\n",
       "e_inc_num_hi                   1\n",
       "e_tbhiv_prct                1250\n",
       "e_tbhiv_prct_lo             1446\n",
       "e_tbhiv_prct_hi             1446\n",
       "e_inc_tbhiv_100k            1306\n",
       "e_inc_tbhiv_100k_lo         1306\n",
       "e_inc_tbhiv_100k_hi         1306\n",
       "e_inc_tbhiv_num             1306\n",
       "e_inc_tbhiv_num_lo          1306\n",
       "e_inc_tbhiv_num_hi          1306\n",
       "source_tbhiv                   1\n",
       "c_cdr                        427\n",
       "c_cdr_lo                     427\n",
       "c_cdr_hi                     427\n",
       "dtype: int64"
      ]
     },
     "execution_count": 26,
     "metadata": {},
     "output_type": "execute_result"
    }
   ],
   "source": [
    "#Check how many null values there.\n",
    "TB_data.isnull().sum()"
   ]
  },
  {
   "cell_type": "markdown",
   "metadata": {},
   "source": [
    "<p><b>Filling Missing values</b><br/>As you can see above, we have null values in the dataset, which we will be trying to patch up. We are going to replace the null values by using interpolation and the nearest neighbour algorithm (K-NN Imputation)  and compare it with the original data. \n",
    "The trends will be compared and discussed below.</p>"
   ]
  },
  {
   "cell_type": "code",
   "execution_count": 425,
   "metadata": {},
   "outputs": [],
   "source": [
    "#cloning the the interpol dataset\n",
    "TB_interpol = TB_data.copy()\n",
    "TB_knn = TB_data.copy()"
   ]
  },
  {
   "cell_type": "code",
   "execution_count": 426,
   "metadata": {},
   "outputs": [
    {
     "data": {
      "text/html": [
       "<div>\n",
       "<style scoped>\n",
       "    .dataframe tbody tr th:only-of-type {\n",
       "        vertical-align: middle;\n",
       "    }\n",
       "\n",
       "    .dataframe tbody tr th {\n",
       "        vertical-align: top;\n",
       "    }\n",
       "\n",
       "    .dataframe thead th {\n",
       "        text-align: right;\n",
       "    }\n",
       "</style>\n",
       "<table border=\"1\" class=\"dataframe\">\n",
       "  <thead>\n",
       "    <tr style=\"text-align: right;\">\n",
       "      <th></th>\n",
       "      <th>iso_numeric</th>\n",
       "      <th>year</th>\n",
       "      <th>e_pop_num</th>\n",
       "      <th>e_prev_100k</th>\n",
       "      <th>e_prev_100k_lo</th>\n",
       "      <th>e_prev_100k_hi</th>\n",
       "      <th>e_prev_num</th>\n",
       "      <th>e_prev_num_lo</th>\n",
       "      <th>e_prev_num_hi</th>\n",
       "      <th>e_mort_exc_tbhiv_100k</th>\n",
       "      <th>...</th>\n",
       "      <th>e_tbhiv_prct_hi</th>\n",
       "      <th>e_inc_tbhiv_100k</th>\n",
       "      <th>e_inc_tbhiv_100k_lo</th>\n",
       "      <th>e_inc_tbhiv_100k_hi</th>\n",
       "      <th>e_inc_tbhiv_num</th>\n",
       "      <th>e_inc_tbhiv_num_lo</th>\n",
       "      <th>e_inc_tbhiv_num_hi</th>\n",
       "      <th>c_cdr</th>\n",
       "      <th>c_cdr_lo</th>\n",
       "      <th>c_cdr_hi</th>\n",
       "    </tr>\n",
       "  </thead>\n",
       "  <tbody>\n",
       "    <tr>\n",
       "      <th>count</th>\n",
       "      <td>4903.000000</td>\n",
       "      <td>4903.000000</td>\n",
       "      <td>4.903000e+03</td>\n",
       "      <td>4900.000000</td>\n",
       "      <td>4900.000000</td>\n",
       "      <td>4900.000000</td>\n",
       "      <td>4.900000e+03</td>\n",
       "      <td>4.900000e+03</td>\n",
       "      <td>4.900000e+03</td>\n",
       "      <td>4903.00000</td>\n",
       "      <td>...</td>\n",
       "      <td>3458.000000</td>\n",
       "      <td>3636.000000</td>\n",
       "      <td>3636.000000</td>\n",
       "      <td>3636.000000</td>\n",
       "      <td>3636.000000</td>\n",
       "      <td>3636.000000</td>\n",
       "      <td>3636.000000</td>\n",
       "      <td>4808.000000</td>\n",
       "      <td>4808.000000</td>\n",
       "      <td>4808.000000</td>\n",
       "    </tr>\n",
       "    <tr>\n",
       "      <th>mean</th>\n",
       "      <td>433.487457</td>\n",
       "      <td>2001.042219</td>\n",
       "      <td>2.899179e+07</td>\n",
       "      <td>207.429645</td>\n",
       "      <td>93.566061</td>\n",
       "      <td>377.646339</td>\n",
       "      <td>6.903631e+04</td>\n",
       "      <td>4.359243e+04</td>\n",
       "      <td>1.062963e+05</td>\n",
       "      <td>16.24537</td>\n",
       "      <td>...</td>\n",
       "      <td>11.541640</td>\n",
       "      <td>38.560017</td>\n",
       "      <td>30.852853</td>\n",
       "      <td>47.579389</td>\n",
       "      <td>5846.539486</td>\n",
       "      <td>4561.886484</td>\n",
       "      <td>7471.702279</td>\n",
       "      <td>67.659886</td>\n",
       "      <td>57.720639</td>\n",
       "      <td>83.018956</td>\n",
       "    </tr>\n",
       "    <tr>\n",
       "      <th>std</th>\n",
       "      <td>255.202944</td>\n",
       "      <td>6.643548</td>\n",
       "      <td>1.177827e+08</td>\n",
       "      <td>269.620312</td>\n",
       "      <td>137.951392</td>\n",
       "      <td>500.859089</td>\n",
       "      <td>3.301936e+05</td>\n",
       "      <td>2.727588e+05</td>\n",
       "      <td>4.149598e+05</td>\n",
       "      <td>23.91382</td>\n",
       "      <td>...</td>\n",
       "      <td>17.516528</td>\n",
       "      <td>118.718940</td>\n",
       "      <td>96.402995</td>\n",
       "      <td>145.170327</td>\n",
       "      <td>23063.311120</td>\n",
       "      <td>18791.190891</td>\n",
       "      <td>28827.191560</td>\n",
       "      <td>26.707511</td>\n",
       "      <td>23.849568</td>\n",
       "      <td>44.725054</td>\n",
       "    </tr>\n",
       "    <tr>\n",
       "      <th>min</th>\n",
       "      <td>4.000000</td>\n",
       "      <td>1990.000000</td>\n",
       "      <td>1.129000e+03</td>\n",
       "      <td>0.260000</td>\n",
       "      <td>0.080000</td>\n",
       "      <td>0.540000</td>\n",
       "      <td>0.000000e+00</td>\n",
       "      <td>0.000000e+00</td>\n",
       "      <td>1.000000e-02</td>\n",
       "      <td>0.00000</td>\n",
       "      <td>...</td>\n",
       "      <td>0.000000</td>\n",
       "      <td>0.000000</td>\n",
       "      <td>0.000000</td>\n",
       "      <td>0.000000</td>\n",
       "      <td>0.000000</td>\n",
       "      <td>0.000000</td>\n",
       "      <td>0.000000</td>\n",
       "      <td>0.000000</td>\n",
       "      <td>0.000000</td>\n",
       "      <td>0.000000</td>\n",
       "    </tr>\n",
       "    <tr>\n",
       "      <th>25%</th>\n",
       "      <td>212.000000</td>\n",
       "      <td>1995.000000</td>\n",
       "      <td>5.508830e+05</td>\n",
       "      <td>25.000000</td>\n",
       "      <td>10.000000</td>\n",
       "      <td>46.000000</td>\n",
       "      <td>3.900000e+02</td>\n",
       "      <td>1.600000e+02</td>\n",
       "      <td>7.775000e+02</td>\n",
       "      <td>1.40000</td>\n",
       "      <td>...</td>\n",
       "      <td>0.590000</td>\n",
       "      <td>0.180000</td>\n",
       "      <td>0.140000</td>\n",
       "      <td>0.230000</td>\n",
       "      <td>15.000000</td>\n",
       "      <td>12.000000</td>\n",
       "      <td>19.750000</td>\n",
       "      <td>50.000000</td>\n",
       "      <td>41.000000</td>\n",
       "      <td>64.000000</td>\n",
       "    </tr>\n",
       "    <tr>\n",
       "      <th>50%</th>\n",
       "      <td>430.000000</td>\n",
       "      <td>2001.000000</td>\n",
       "      <td>5.140332e+06</td>\n",
       "      <td>92.000000</td>\n",
       "      <td>37.000000</td>\n",
       "      <td>163.500000</td>\n",
       "      <td>4.600000e+03</td>\n",
       "      <td>1.900000e+03</td>\n",
       "      <td>8.100000e+03</td>\n",
       "      <td>5.40000</td>\n",
       "      <td>...</td>\n",
       "      <td>3.600000</td>\n",
       "      <td>2.000000</td>\n",
       "      <td>1.600000</td>\n",
       "      <td>2.500000</td>\n",
       "      <td>150.000000</td>\n",
       "      <td>110.000000</td>\n",
       "      <td>190.000000</td>\n",
       "      <td>75.000000</td>\n",
       "      <td>63.000000</td>\n",
       "      <td>93.000000</td>\n",
       "    </tr>\n",
       "    <tr>\n",
       "      <th>75%</th>\n",
       "      <td>646.000000</td>\n",
       "      <td>2007.000000</td>\n",
       "      <td>1.732282e+07</td>\n",
       "      <td>306.000000</td>\n",
       "      <td>129.000000</td>\n",
       "      <td>526.000000</td>\n",
       "      <td>3.000000e+04</td>\n",
       "      <td>1.300000e+04</td>\n",
       "      <td>5.300000e+04</td>\n",
       "      <td>22.00000</td>\n",
       "      <td>...</td>\n",
       "      <td>14.000000</td>\n",
       "      <td>15.000000</td>\n",
       "      <td>11.000000</td>\n",
       "      <td>18.000000</td>\n",
       "      <td>1500.000000</td>\n",
       "      <td>1200.000000</td>\n",
       "      <td>1800.000000</td>\n",
       "      <td>87.000000</td>\n",
       "      <td>77.000000</td>\n",
       "      <td>99.000000</td>\n",
       "    </tr>\n",
       "    <tr>\n",
       "      <th>max</th>\n",
       "      <td>894.000000</td>\n",
       "      <td>2012.000000</td>\n",
       "      <td>1.377065e+09</td>\n",
       "      <td>1860.000000</td>\n",
       "      <td>1316.000000</td>\n",
       "      <td>3565.000000</td>\n",
       "      <td>4.600000e+06</td>\n",
       "      <td>4.000000e+06</td>\n",
       "      <td>5.200000e+06</td>\n",
       "      <td>221.00000</td>\n",
       "      <td>...</td>\n",
       "      <td>88.000000</td>\n",
       "      <td>1151.000000</td>\n",
       "      <td>911.000000</td>\n",
       "      <td>1418.000000</td>\n",
       "      <td>330000.000000</td>\n",
       "      <td>270000.000000</td>\n",
       "      <td>390000.000000</td>\n",
       "      <td>340.000000</td>\n",
       "      <td>240.000000</td>\n",
       "      <td>1600.000000</td>\n",
       "    </tr>\n",
       "  </tbody>\n",
       "</table>\n",
       "<p>8 rows × 33 columns</p>\n",
       "</div>"
      ],
      "text/plain": [
       "       iso_numeric         year     e_pop_num  e_prev_100k  e_prev_100k_lo  \\\n",
       "count  4903.000000  4903.000000  4.903000e+03  4900.000000     4900.000000   \n",
       "mean    433.487457  2001.042219  2.899179e+07   207.429645       93.566061   \n",
       "std     255.202944     6.643548  1.177827e+08   269.620312      137.951392   \n",
       "min       4.000000  1990.000000  1.129000e+03     0.260000        0.080000   \n",
       "25%     212.000000  1995.000000  5.508830e+05    25.000000       10.000000   \n",
       "50%     430.000000  2001.000000  5.140332e+06    92.000000       37.000000   \n",
       "75%     646.000000  2007.000000  1.732282e+07   306.000000      129.000000   \n",
       "max     894.000000  2012.000000  1.377065e+09  1860.000000     1316.000000   \n",
       "\n",
       "       e_prev_100k_hi    e_prev_num  e_prev_num_lo  e_prev_num_hi  \\\n",
       "count     4900.000000  4.900000e+03   4.900000e+03   4.900000e+03   \n",
       "mean       377.646339  6.903631e+04   4.359243e+04   1.062963e+05   \n",
       "std        500.859089  3.301936e+05   2.727588e+05   4.149598e+05   \n",
       "min          0.540000  0.000000e+00   0.000000e+00   1.000000e-02   \n",
       "25%         46.000000  3.900000e+02   1.600000e+02   7.775000e+02   \n",
       "50%        163.500000  4.600000e+03   1.900000e+03   8.100000e+03   \n",
       "75%        526.000000  3.000000e+04   1.300000e+04   5.300000e+04   \n",
       "max       3565.000000  4.600000e+06   4.000000e+06   5.200000e+06   \n",
       "\n",
       "       e_mort_exc_tbhiv_100k  ...  e_tbhiv_prct_hi  e_inc_tbhiv_100k  \\\n",
       "count             4903.00000  ...      3458.000000       3636.000000   \n",
       "mean                16.24537  ...        11.541640         38.560017   \n",
       "std                 23.91382  ...        17.516528        118.718940   \n",
       "min                  0.00000  ...         0.000000          0.000000   \n",
       "25%                  1.40000  ...         0.590000          0.180000   \n",
       "50%                  5.40000  ...         3.600000          2.000000   \n",
       "75%                 22.00000  ...        14.000000         15.000000   \n",
       "max                221.00000  ...        88.000000       1151.000000   \n",
       "\n",
       "       e_inc_tbhiv_100k_lo  e_inc_tbhiv_100k_hi  e_inc_tbhiv_num  \\\n",
       "count          3636.000000          3636.000000      3636.000000   \n",
       "mean             30.852853            47.579389      5846.539486   \n",
       "std              96.402995           145.170327     23063.311120   \n",
       "min               0.000000             0.000000         0.000000   \n",
       "25%               0.140000             0.230000        15.000000   \n",
       "50%               1.600000             2.500000       150.000000   \n",
       "75%              11.000000            18.000000      1500.000000   \n",
       "max             911.000000          1418.000000    330000.000000   \n",
       "\n",
       "       e_inc_tbhiv_num_lo  e_inc_tbhiv_num_hi        c_cdr     c_cdr_lo  \\\n",
       "count         3636.000000         3636.000000  4808.000000  4808.000000   \n",
       "mean          4561.886484         7471.702279    67.659886    57.720639   \n",
       "std          18791.190891        28827.191560    26.707511    23.849568   \n",
       "min              0.000000            0.000000     0.000000     0.000000   \n",
       "25%             12.000000           19.750000    50.000000    41.000000   \n",
       "50%            110.000000          190.000000    75.000000    63.000000   \n",
       "75%           1200.000000         1800.000000    87.000000    77.000000   \n",
       "max         270000.000000       390000.000000   340.000000   240.000000   \n",
       "\n",
       "          c_cdr_hi  \n",
       "count  4808.000000  \n",
       "mean     83.018956  \n",
       "std      44.725054  \n",
       "min       0.000000  \n",
       "25%      64.000000  \n",
       "50%      93.000000  \n",
       "75%      99.000000  \n",
       "max    1600.000000  \n",
       "\n",
       "[8 rows x 33 columns]"
      ]
     },
     "execution_count": 426,
     "metadata": {},
     "output_type": "execute_result"
    }
   ],
   "source": [
    "### Interpolate missing values and set them in place.\n",
    "countries = TB_interpol.country.unique()\n",
    "for country in countries:\n",
    "    mask = TB_interpol.loc[:,'country']== country\n",
    "    TB_interpol[mask]= TB_interpol[mask].interpolate()"
   ]
  },
  {
   "cell_type": "code",
   "execution_count": 427,
   "metadata": {},
   "outputs": [],
   "source": [
    "#Use KNN Imputation \n",
    "from sklearn.impute import KNNImputer\n",
    "imputer = KNNImputer(n_neighbors=20)\n",
    "\n",
    "for col in TB_knn:\n",
    "    if(is_numeric_dtype(TB_knn[col])):\n",
    "        TB_knn[col] =  imputer.fit_transform(TB_knn[col].values.reshape(-1,1))"
   ]
  },
  {
   "cell_type": "code",
   "execution_count": 319,
   "metadata": {},
   "outputs": [
    {
     "data": {
      "text/plain": [
       "country        object\n",
       "iso2           object\n",
       "iso3           object\n",
       "iso_numeric     int64\n",
       "g_whoregion    object\n",
       "year            int64\n",
       "dtype: object"
      ]
     },
     "execution_count": 319,
     "metadata": {},
     "output_type": "execute_result"
    }
   ],
   "source": [
    "TB_data.dtypes.head(n=6)"
   ]
  },
  {
   "cell_type": "code",
   "execution_count": 59,
   "metadata": {
    "scrolled": true
   },
   "outputs": [
    {
     "data": {
      "text/html": [
       "<div>\n",
       "<style scoped>\n",
       "    .dataframe tbody tr th:only-of-type {\n",
       "        vertical-align: middle;\n",
       "    }\n",
       "\n",
       "    .dataframe tbody tr th {\n",
       "        vertical-align: top;\n",
       "    }\n",
       "\n",
       "    .dataframe thead tr th {\n",
       "        text-align: left;\n",
       "    }\n",
       "\n",
       "    .dataframe thead tr:last-of-type th {\n",
       "        text-align: right;\n",
       "    }\n",
       "</style>\n",
       "<table border=\"1\" class=\"dataframe\">\n",
       "  <thead>\n",
       "    <tr>\n",
       "      <th></th>\n",
       "      <th colspan=\"8\" halign=\"left\">iso_numeric</th>\n",
       "      <th colspan=\"2\" halign=\"left\">year</th>\n",
       "      <th>...</th>\n",
       "      <th colspan=\"2\" halign=\"left\">c_cdr_lo</th>\n",
       "      <th colspan=\"8\" halign=\"left\">c_cdr_hi</th>\n",
       "    </tr>\n",
       "    <tr>\n",
       "      <th></th>\n",
       "      <th>count</th>\n",
       "      <th>mean</th>\n",
       "      <th>std</th>\n",
       "      <th>min</th>\n",
       "      <th>25%</th>\n",
       "      <th>50%</th>\n",
       "      <th>75%</th>\n",
       "      <th>max</th>\n",
       "      <th>count</th>\n",
       "      <th>mean</th>\n",
       "      <th>...</th>\n",
       "      <th>75%</th>\n",
       "      <th>max</th>\n",
       "      <th>count</th>\n",
       "      <th>mean</th>\n",
       "      <th>std</th>\n",
       "      <th>min</th>\n",
       "      <th>25%</th>\n",
       "      <th>50%</th>\n",
       "      <th>75%</th>\n",
       "      <th>max</th>\n",
       "    </tr>\n",
       "    <tr>\n",
       "      <th>country</th>\n",
       "      <th></th>\n",
       "      <th></th>\n",
       "      <th></th>\n",
       "      <th></th>\n",
       "      <th></th>\n",
       "      <th></th>\n",
       "      <th></th>\n",
       "      <th></th>\n",
       "      <th></th>\n",
       "      <th></th>\n",
       "      <th></th>\n",
       "      <th></th>\n",
       "      <th></th>\n",
       "      <th></th>\n",
       "      <th></th>\n",
       "      <th></th>\n",
       "      <th></th>\n",
       "      <th></th>\n",
       "      <th></th>\n",
       "      <th></th>\n",
       "      <th></th>\n",
       "    </tr>\n",
       "  </thead>\n",
       "  <tbody>\n",
       "    <tr>\n",
       "      <th>Afghanistan</th>\n",
       "      <td>23.0</td>\n",
       "      <td>4.0</td>\n",
       "      <td>0.0</td>\n",
       "      <td>4.0</td>\n",
       "      <td>4.0</td>\n",
       "      <td>4.0</td>\n",
       "      <td>4.0</td>\n",
       "      <td>4.0</td>\n",
       "      <td>23.0</td>\n",
       "      <td>2001.0</td>\n",
       "      <td>...</td>\n",
       "      <td>43.75</td>\n",
       "      <td>77.0</td>\n",
       "      <td>18.0</td>\n",
       "      <td>48.188889</td>\n",
       "      <td>27.990879</td>\n",
       "      <td>4.4</td>\n",
       "      <td>31.25</td>\n",
       "      <td>53.5</td>\n",
       "      <td>62.75</td>\n",
       "      <td>120.0</td>\n",
       "    </tr>\n",
       "    <tr>\n",
       "      <th>Albania</th>\n",
       "      <td>23.0</td>\n",
       "      <td>8.0</td>\n",
       "      <td>0.0</td>\n",
       "      <td>8.0</td>\n",
       "      <td>8.0</td>\n",
       "      <td>8.0</td>\n",
       "      <td>8.0</td>\n",
       "      <td>8.0</td>\n",
       "      <td>23.0</td>\n",
       "      <td>2001.0</td>\n",
       "      <td>...</td>\n",
       "      <td>69.00</td>\n",
       "      <td>81.0</td>\n",
       "      <td>21.0</td>\n",
       "      <td>96.380952</td>\n",
       "      <td>3.612149</td>\n",
       "      <td>94.0</td>\n",
       "      <td>95.00</td>\n",
       "      <td>95.0</td>\n",
       "      <td>95.00</td>\n",
       "      <td>110.0</td>\n",
       "    </tr>\n",
       "    <tr>\n",
       "      <th>Algeria</th>\n",
       "      <td>23.0</td>\n",
       "      <td>12.0</td>\n",
       "      <td>0.0</td>\n",
       "      <td>12.0</td>\n",
       "      <td>12.0</td>\n",
       "      <td>12.0</td>\n",
       "      <td>12.0</td>\n",
       "      <td>12.0</td>\n",
       "      <td>23.0</td>\n",
       "      <td>2001.0</td>\n",
       "      <td>...</td>\n",
       "      <td>52.00</td>\n",
       "      <td>52.0</td>\n",
       "      <td>23.0</td>\n",
       "      <td>91.565217</td>\n",
       "      <td>1.471736</td>\n",
       "      <td>87.0</td>\n",
       "      <td>92.00</td>\n",
       "      <td>92.0</td>\n",
       "      <td>92.00</td>\n",
       "      <td>93.0</td>\n",
       "    </tr>\n",
       "    <tr>\n",
       "      <th>American Samoa</th>\n",
       "      <td>23.0</td>\n",
       "      <td>16.0</td>\n",
       "      <td>0.0</td>\n",
       "      <td>16.0</td>\n",
       "      <td>16.0</td>\n",
       "      <td>16.0</td>\n",
       "      <td>16.0</td>\n",
       "      <td>16.0</td>\n",
       "      <td>23.0</td>\n",
       "      <td>2001.0</td>\n",
       "      <td>...</td>\n",
       "      <td>66.00</td>\n",
       "      <td>76.0</td>\n",
       "      <td>21.0</td>\n",
       "      <td>91.809524</td>\n",
       "      <td>22.015038</td>\n",
       "      <td>0.0</td>\n",
       "      <td>93.00</td>\n",
       "      <td>93.0</td>\n",
       "      <td>99.00</td>\n",
       "      <td>110.0</td>\n",
       "    </tr>\n",
       "    <tr>\n",
       "      <th>Andorra</th>\n",
       "      <td>23.0</td>\n",
       "      <td>20.0</td>\n",
       "      <td>0.0</td>\n",
       "      <td>20.0</td>\n",
       "      <td>20.0</td>\n",
       "      <td>20.0</td>\n",
       "      <td>20.0</td>\n",
       "      <td>20.0</td>\n",
       "      <td>23.0</td>\n",
       "      <td>2001.0</td>\n",
       "      <td>...</td>\n",
       "      <td>77.00</td>\n",
       "      <td>77.0</td>\n",
       "      <td>22.0</td>\n",
       "      <td>99.000000</td>\n",
       "      <td>0.000000</td>\n",
       "      <td>99.0</td>\n",
       "      <td>99.00</td>\n",
       "      <td>99.0</td>\n",
       "      <td>99.00</td>\n",
       "      <td>99.0</td>\n",
       "    </tr>\n",
       "  </tbody>\n",
       "</table>\n",
       "<p>5 rows × 264 columns</p>\n",
       "</div>"
      ],
      "text/plain": [
       "               iso_numeric                                           year  \\\n",
       "                     count  mean  std   min   25%   50%   75%   max count   \n",
       "country                                                                     \n",
       "Afghanistan           23.0   4.0  0.0   4.0   4.0   4.0   4.0   4.0  23.0   \n",
       "Albania               23.0   8.0  0.0   8.0   8.0   8.0   8.0   8.0  23.0   \n",
       "Algeria               23.0  12.0  0.0  12.0  12.0  12.0  12.0  12.0  23.0   \n",
       "American Samoa        23.0  16.0  0.0  16.0  16.0  16.0  16.0  16.0  23.0   \n",
       "Andorra               23.0  20.0  0.0  20.0  20.0  20.0  20.0  20.0  23.0   \n",
       "\n",
       "                        ... c_cdr_lo       c_cdr_hi                        \\\n",
       "                  mean  ...      75%   max    count       mean        std   \n",
       "country                 ...                                                 \n",
       "Afghanistan     2001.0  ...    43.75  77.0     18.0  48.188889  27.990879   \n",
       "Albania         2001.0  ...    69.00  81.0     21.0  96.380952   3.612149   \n",
       "Algeria         2001.0  ...    52.00  52.0     23.0  91.565217   1.471736   \n",
       "American Samoa  2001.0  ...    66.00  76.0     21.0  91.809524  22.015038   \n",
       "Andorra         2001.0  ...    77.00  77.0     22.0  99.000000   0.000000   \n",
       "\n",
       "                                                 \n",
       "                 min    25%   50%    75%    max  \n",
       "country                                          \n",
       "Afghanistan      4.4  31.25  53.5  62.75  120.0  \n",
       "Albania         94.0  95.00  95.0  95.00  110.0  \n",
       "Algeria         87.0  92.00  92.0  92.00   93.0  \n",
       "American Samoa   0.0  93.00  93.0  99.00  110.0  \n",
       "Andorra         99.0  99.00  99.0  99.00   99.0  \n",
       "\n",
       "[5 rows x 264 columns]"
      ]
     },
     "execution_count": 59,
     "metadata": {},
     "output_type": "execute_result"
    }
   ],
   "source": [
    "#Grouping the data and getting description by country\n",
    "TB_data.groupby(\"country\").describe().head()"
   ]
  },
  {
   "cell_type": "code",
   "execution_count": 459,
   "metadata": {},
   "outputs": [
    {
     "data": {
      "image/png": "[encoded data removed]",
      "text/plain": [
       "<Figure size 432x288 with 2 Axes>"
      ]
     },
     "metadata": {
      "needs_background": "light"
     },
     "output_type": "display_data"
    },
    {
     "data": {
      "image/png": "[encoded data removed]",
      "text/plain": [
       "<Figure size 432x288 with 2 Axes>"
      ]
     },
     "metadata": {
      "needs_background": "light"
     },
     "output_type": "display_data"
    }
   ],
   "source": [
    "##Using Interpolation\n",
    "#First subplot\n",
    "fig1 = plt.figure()\n",
    "sp = fig1.add_subplot(1,2,1)\n",
    "sp.hist(TB_interpol.e_prev_100k_hi)\n",
    "sp.hist(TB_interpol.e_inc_tbhiv_100k_hi, color=\"red\")\n",
    "sp.legend([\"TB\",\"TB and HIV +ve\"])\n",
    "sp.set_ylabel(\"Frequency\")\n",
    "sp.set_xlabel(\"High Bound Incidence of TB high (per 000s)\")\n",
    "fig1.subplots_adjust(right = 1.9)\n",
    "#Second subplot\n",
    "sp = fig1.add_subplot(1,2,2)\n",
    "sp.hist(TB_interpol.e_prev_100k_lo)\n",
    "sp.set_xlabel(\"Low Bound Incidence of TB high (per 000s)\")\n",
    "sp.hist(TB_interpol.e_inc_tbhiv_100k_lo, color=\"red\")\n",
    "sp.legend([\"TB\",\"TB and HIV +ve\"])\n",
    "fig1.suptitle(\"Using Interpolation\",)\n",
    "plt.show()\n",
    "\n",
    "##Using KNN\n",
    "#Third\n",
    "fig2 = plt.figure()\n",
    "sp = fig2.add_subplot(1,2,1)\n",
    "sp.hist(TB_knn.e_prev_100k_hi)\n",
    "sp.set_ylabel(\"Frequency\")\n",
    "sp.set_xlabel(\"High Bound Incidence of TB high (per 000s)\")\n",
    "sp.hist(TB_knn.e_inc_tbhiv_100k_hi, color=\"red\")\n",
    "sp.legend([\"TB\",\"TB and HIV +ve\"])\n",
    "fig2.subplots_adjust(right = 1.9)\n",
    "#Fourth\n",
    "sp = fig2.add_subplot(1,2,2)\n",
    "sp.hist(TB_knn.e_prev_100k_lo)\n",
    "sp.set_xlabel(\"Low Bound Incidence of TB high (per 000s)\")\n",
    "sp.hist(TB_knn.e_inc_tbhiv_100k_lo, color=\"red\")\n",
    "sp.legend([\"TB\",\"TB and HIV +ve\"])\n",
    "fig2.suptitle(\"Using KNN Imputation\",horizontalalignment=\"center\")\n",
    "plt.show()"
   ]
  },
  {
   "cell_type": "markdown",
   "metadata": {},
   "source": [
    "<p>The columns we are comparing in the figures shown above- the Low and High bound incidence of TB (per 1000) and also the Low and High bound incidence of TB who are also HIV positive (per 1000).<br/>It seems that from using both the fill methods, the missing data has been added to the left hand side of the graph, more specifically the groups between 0-200 in the low bound and 0-500 in the high bound incidence of TB. It also seems that from KNN Imputation that missing values seem to be added to 0-100 and 0-250 group, rather than the 100-200 and 250-500 groups for these four columns. I was expecting the nearest neighbor algorithm and interpolation to achieve similar results, but it seems to vary. This may be because interpolation did not fill all the datapoints and still had many null values whereas KNN Imputation filled in all the null values.</p>"
   ]
  },
  {
   "cell_type": "code",
   "execution_count": 542,
   "metadata": {},
   "outputs": [
    {
     "data": {
      "image/png": "[encoded data removed]",
      "text/plain": [
       "<Figure size 432x288 with 2 Axes>"
      ]
     },
     "metadata": {
      "needs_background": "light"
     },
     "output_type": "display_data"
    }
   ],
   "source": [
    "fig3 = plt.figure()\n",
    "sp1 = fig3.add_subplot(121, ylabel=\"Frequency\", xlabel=\"TB Treatment coverage (%)- using KNN\")\n",
    "sp1.hist(TB_knn.c_cdr)\n",
    "\n",
    "fig3.subplots_adjust(right = 1.9)\n",
    "sp2 = fig3.add_subplot(122,sharey=sp1,xlabel=\"TB Treatment coverage (%) - using Interpolation\")\n",
    "sp2.hist(TB_interpol.c_cdr)\n",
    "plt.show()"
   ]
  },
  {
   "cell_type": "code",
   "execution_count": 655,
   "metadata": {},
   "outputs": [
    {
     "name": "stderr",
     "output_type": "stream",
     "text": [
      "D:\\Programs\\Anaconda\\lib\\site-packages\\numpy\\lib\\histograms.py:839: RuntimeWarning: invalid value encountered in greater_equal\n",
      "  keep = (tmp_a >= first_edge)\n",
      "D:\\Programs\\Anaconda\\lib\\site-packages\\numpy\\lib\\histograms.py:840: RuntimeWarning: invalid value encountered in less_equal\n",
      "  keep &= (tmp_a <= last_edge)\n"
     ]
    },
    {
     "data": {
      "image/png": "[encoded data removed]",
      "text/plain": [
       "<Figure size 432x288 with 2 Axes>"
      ]
     },
     "metadata": {
      "needs_background": "light"
     },
     "output_type": "display_data"
    }
   ],
   "source": [
    "#Plotting the log values\n",
    "fig4 = plt.figure()\n",
    "sp = fig4.add_subplot(121)\n",
    "sp.hist(TB_knn.apply(lambda x: np.log(x.e_prev_100k_hi),axis=1), color=\"orange\")\n",
    "sp.set_ylabel(\"Frequency\")\n",
    "sp.set_xlabel(\"Log of the Incidence of TB high (per 000s)\")\n",
    "fig4.subplots_adjust(right = 1.9)\n",
    "\n",
    "sp = fig4.add_subplot(122,xlabel=\"Log of TB Treatment Coverage (%)\")\n",
    "#replace any zeroes\n",
    "sp.hist((TB_knn.c_cdr.replace(0,np.NaN)).apply(lambda x: np.log(x)),color=\"turquoise\")\n",
    "sp.set_xlim(left=0)\n",
    "plt.show()"
   ]
  },
  {
   "cell_type": "markdown",
   "metadata": {},
   "source": [
    "<p>Above we can see the log gaphs of the incidence of TB and treatment coverage.</p>"
   ]
  },
  {
   "cell_type": "markdown",
   "metadata": {},
   "source": [
    "<p><b>Mapping the columns</b><br/>We want to now map all the numeric columns into a [0,1] interval.<br/>\n",
    "We can do this by using sklearns, built in function preprocessing.MinMaxScaler() which is:<br/> $\n",
    "\\large{\\frac{x-\\bar{x}}{x_{max}-x_{min}}}$<br/>\n",
    "Where $x$ is a datapoint, $x_{max}$ and $x_{min}$ are maximum and minimum values, and $\\bar{x}$ is the average of all the columns.</p>"
   ]
  },
  {
   "cell_type": "code",
   "execution_count": 617,
   "metadata": {},
   "outputs": [],
   "source": [
    "#Using sklearn's prebuilt in function standard scaler to preprocess the data. \n",
    "from sklearn import preprocessing as prepr\n",
    "from pandas.api.types import is_numeric_dtype\n",
    "\n",
    "#Copy a new one, so we dont affect the data in the interpolated data.\n",
    "TB_scaled = TB_interpol.copy()\n",
    "\n",
    "#This only does it for a single column... so we need to do this for all of them.\n",
    "scaler = prepr.MinMaxScaler(feature_range=(0,1))\n",
    "\n",
    "for col in TB_scaled:\n",
    "    #Check if columns are numeric\n",
    "    if(is_numeric_dtype(TB_scaled[col])): #(TB_scaled[col].dtype == np.int64) or (TB_scaled[col].dtype == np.float64)): #The OLD school way\n",
    "        TB_scaled[col] =scaler.fit_transform(TB_scaled[col].values.reshape(-1,1))"
   ]
  },
  {
   "cell_type": "code",
   "execution_count": 658,
   "metadata": {},
   "outputs": [
    {
     "data": {
      "image/png": "[encoded data removed]",
      "text/plain": [
       "<Figure size 432x288 with 1 Axes>"
      ]
     },
     "metadata": {
      "needs_background": "light"
     },
     "output_type": "display_data"
    }
   ],
   "source": [
    "#get the means and plot them\n",
    "import mplcursors\n",
    "means = TB_scaled.describe()[1:2][:]\n",
    "plt.scatter(y=means.loc[\"mean\"],x=means.columns)\n",
    "plt.ylabel(\"Standardised Mean Value\")\n",
    "plt.title(\"The standardised mean values of the Numerical Columns in the 2014 WHO TB Dataset\")\n",
    "plt.xticks(rotation=90)\n",
    "plt.show()"
   ]
  }
 ],
 "metadata": {
  "kernelspec": {
   "display_name": "Python 3",
   "language": "python",
   "name": "python3"
  },
  "language_info": {
   "codemirror_mode": {
    "name": "ipython",
    "version": 3
   },
   "file_extension": ".py",
   "mimetype": "text/x-python",
   "name": "python",
   "nbconvert_exporter": "python",
   "pygments_lexer": "ipython3",
   "version": "3.8.3"
  }
 },
 "nbformat": 4,
 "nbformat_minor": 4
}
