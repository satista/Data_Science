#First exercise, just to print hello world
print("Hello World")


##############################################################################
#PART 1
#Without Pandas 

import csv     # imports the csv module
import pandas as pd
f = open('TB_burden_countries_2014-09-29.csv') # opens the csv file
next(csv.reader(f)) #Skip the headerfile, so we are only looking at the data 
count = 0
for row in csv.reader(f):
    #Count the total number of rows in the file.
    count += 1
print("The total number of records in the dataset is "+ str(count))

print("\nThe exercises for the TB dataset, will be done first using inbuilt functions.")
#Find average number of low prevalance of TB which is at index 11
count = 0
total_val = 0
f = open('TB_burden_countries_2014-09-29.csv') 
next(csv.reader(f)) 
for row in csv.reader(f):
    if(row[11].strip()):
        total_val +=  float(row[11])
        count += 1
print("The mean value for low prevalance of TB for all years is "+ str(total_val/count))
 
#Now doing this for only years 1990 and 2011 for low prevalance of TB
#I will calculate the values for 1990 and 2011 together and separately.
count = count_1990 = count_2011  =  0
total_val = total_1990 = total_2011 = 0

f = open('TB_burden_countries_2014-09-29.csv')
next(csv.reader(f)) 
for row in csv.reader(f):
    if(row[11].strip()):
        col_val = float(row[11])
        if(row[5].strip() and ((int(row[5]) == 1990) or (int(row[5]) == 2011))):
            total_val += col_val
            count +=1
            if(int(row[5]) == 1990):
                count_1990 +=1
                total_1990 += col_val
            elif(int(row[5]) == 2011):
                count_2011 +=1
                total_2011 += col_val
print("The mean value for low prevalence of TB in the years 1990 and 2011 is "  + str(total_val/count)
      +".\nThe mean value for 1990 is " + str(total_1990/count_1990) +".\nThe total value for 2011 is " +
      str(total_2011/count_2011)+".")


#Using Pandas -- I love Pandas 
print("\nThe exercises for the TB dataset, will be done now using Pandas.")
#Find average population of all the countries.
file = pd.read_csv('TB_burden_countries_2014-09-29.csv')
total_popn = float(0)
avg_popn = 0.0
for label, row in file.iterrows():
    total_popn += row["e_pop_num"]
avg_popn = total_popn/count
print("The average population of the countries in the dataset is "+ str(avg_popn))




#Find average number of prevalance of TB, making this so that it can be used for any columns with null values
total_val = 0
col = "e_prev_num_lo"
count = 0
for label, row in file[file[col].notnull()].iterrows(): #Iterrate
        count += 1
        total_val += float(row[col])
average_val = total_val/count #get average.
print("The mean value for low prevalance of TB for all years is "+ str(average_val))



#Find averages for years 1990 and 2011
total_val = total_1990 = total_2011 =  0
year_sel = [1990,2011] #year selection
count = count_1990 = count_2011 = 0
for label, row in file[(file[col].notnull()) &  (file.year.isin(year_sel))].iterrows(): #Iterrate
        count += 1
        total_val += float(row[col])
        if(row["year"] == 1990):
            total_1990 += float(row[col])
            count_1990 += 1
        elif(row["year"] == 2011):
            total_2011 += float(row[col])
            count_2011 += 1
print("The mean value for low prevalence of TB in the years 1990 and 2011 is "  + str(total_val/count)
      + ".\n The mean value for 1990 is " + str(total_1990/count_1990) + ".\n The total value for 2011 is " +
      str(total_2011/count_2011) + ".")

#The values seem to be lower for 
##############################################################################
#PART 2 
#NUMPY
import numpy as np
print("\nNext we will look at Numpy Exercises.")

#create an integer array ranging from 5-15
arr_int = np.arange(5,26)
print("\nFirst an array ranging from 5-25: " + str(arr_int))

arr_lin = np.linspace(0,23,7)
print("\nNow an evenly spaced 7 value array from 0-23: " + str(arr_lin))

arr_uni = np.random.uniform(-1,1,100)
print("\nNow a uniform distribution array of 100 values between -1 and 1: " + str(arr_uni))
import matplotlib.pyplot as plt 

plt.hist(arr_uni)
plt.show()

import scipy.spatial as sp

arr_rnd1 = np.random.rand(10)
arr_rnd2 = np.random.rand(10)

d = sp.distance.euclidean(arr_rnd1,arr_rnd2)
print("\nThe Euclidian distance between two random arrays, using the built in numpy function is: " + str(d))

euc_total = 0

for(p,q) in zip(arr_rnd1,arr_rnd2):
    euc_total += (p - q)**2 #square p-q and sum all these.
print("\nThe Euclidean distance between the two aforementioned arrays using a for loop is: "+ str(np.sqrt(euc_total)))