{
 "cells": [
  {
   "cell_type": "markdown",
   "metadata": {},
   "source": [
    "# IN3061/INM430 - Tiny DS Project Progress Report\n",
    "\n",
    "\n",
    "***\n",
    "\n",
    "** Student Name: ** _.... Sathish Ravi ...._\n",
    "\n",
    "** Project Title:** _.... A Study on the Climate of Britain in the last 10 years ...._\n",
    "\n",
    "***\n",
    "\n",
    "\n"
   ]
  },
  {
   "cell_type": "markdown",
   "metadata": {},
   "source": [
    "## Application domain and datasets (150 words):\n",
    "\n",
    "Which application domain and which datasets?\n",
    "\n",
    "... Insert your text here ...\n",
    "***\n",
    "\n",
    "\n",
    "\n",
    "## Well-motivated analytical questions (150 words):\n",
    "\n",
    "What are your analytical questions and what is your motivation for answering them?\n",
    "\n",
    "... Insert your text here ...\n",
    "\n",
    "\n",
    "***\n",
    "\n",
    "## Plan (maximum 200 words): \n",
    "\n",
    "What is your plan? Include data processing, data derivation, model building and validation. The aim of your plan is to address your research questions.\n",
    "\n",
    "... Insert your text here ...\n",
    "\n",
    "\n",
    "## Specific questions to us\n",
    "\n",
    "We will give general comments on your approach, but our feedback will be more useful if you have some more specific questions.\n",
    "\n",
    "... Insert your text here ...\n",
    "\n",
    "***\n",
    "\n",
    "## Initial investigations\n",
    "\n",
    "Provide your initial exploratory work on your data that informed your plan"
   ]
  },
  {
   "cell_type": "code",
   "execution_count": 2,
   "metadata": {
    "jupyter": {
     "outputs_hidden": false
    }
   },
   "outputs": [],
   "source": [
    "# Write your code here\n",
    "\n"
   ]
  }
 ],
 "metadata": {
  "kernelspec": {
   "display_name": "Python 3",
   "language": "python",
   "name": "python3"
  },
  "language_info": {
   "codemirror_mode": {
    "name": "ipython",
    "version": 3
   },
   "file_extension": ".py",
   "mimetype": "text/x-python",
   "name": "python",
   "nbconvert_exporter": "python",
   "pygments_lexer": "ipython3",
   "version": "3.8.3"
  }
 },
 "nbformat": 4,
 "nbformat_minor": 4
}
