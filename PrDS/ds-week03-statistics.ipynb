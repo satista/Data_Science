{
 "cells": [
  {
   "cell_type": "markdown",
   "metadata": {},
   "source": [
   ]
  },
  {
   "cell_type": "markdown",
   "metadata": {},
   "source": [
    "## Binomial distribution"
   ]
  },
  {
   "cell_type": "markdown",
   "metadata": {},
   "source": [
    "#### Task: Draw samples from a Binomial distribution and visualise them\n",
    "- a straightforward way: use a library like [numpy](https://docs.scipy.org/doc/numpy-1.15.0/reference/generated/numpy.random.binomial.html)\n",
    "- a fun way: simulate data by hands"
   ]
  },
  {
   "cell_type": "code",
   "execution_count": 1,
   "metadata": {},
   "outputs": [],
   "source": [
    "n = 100\n",
    "p = 0.2"
   ]
  },
  {
   "cell_type": "markdown",
   "metadata": {},
   "source": [
    "First, simulate a biased coin with probability of Head as $p$."
   ]
  },
  {
   "cell_type": "code",
   "execution_count": 2,
   "metadata": {},
   "outputs": [],
   "source": [
    "from random import random\n",
    "\n",
    "def flip_coin(p):\n",
    "    'Return H or T with probability of H as p.'\n",
    "    return 'H' if random() <= p else 'T'"
   ]
  },
  {
   "cell_type": "code",
   "execution_count": 3,
   "metadata": {},
   "outputs": [
    {
     "data": {
      "text/plain": [
       "'T'"
      ]
     },
     "execution_count": 3,
     "metadata": {},
     "output_type": "execute_result"
    }
   ],
   "source": [
    "flip_coin(p)"
   ]
  },
  {
   "cell_type": "markdown",
   "metadata": {},
   "source": [
    "Test by flipping the coin 100 times."
   ]
  },
  {
   "cell_type": "code",
   "execution_count": 9,
   "metadata": {
    "scrolled": true
   },
   "outputs": [
    {
     "name": "stdout",
     "output_type": "stream",
     "text": [
      "['H', 'H', 'T', 'T', 'T', 'T', 'T', 'T', 'T', 'T', 'T', 'H', 'T', 'T', 'T', 'T', 'H', 'T', 'H', 'H', 'T', 'T', 'H', 'T', 'H', 'T', 'T', 'T', 'T', 'T', 'T', 'H', 'T', 'T', 'H', 'T', 'T', 'T', 'T', 'T', 'T', 'T', 'H', 'T', 'H', 'H', 'H', 'T', 'T', 'H', 'T', 'T', 'T', 'H', 'T', 'T', 'H', 'T', 'T', 'T', 'T', 'T', 'T', 'T', 'T', 'T', 'T', 'T', 'T', 'T', 'H', 'H', 'T', 'T', 'T', 'T', 'T', 'T', 'T', 'T', 'T', 'T', 'T', 'T', 'T', 'T', 'H', 'T', 'T', 'T', 'T', 'T', 'T', 'T', 'T', 'T', 'H', 'T', 'T', 'H']\n",
      "Counter({'T': 78, 'H': 22})\n"
     ]
    }
   ],
   "source": [
    "from collections import Counter\n",
    "\n",
    "coins = [flip_coin(p) for _ in range(100)]\n",
    "print(coins)\n",
    "print(Counter(coins))"
   ]
  },
  {
   "cell_type": "markdown",
   "metadata": {},
   "source": [
    "Flip the coin $n$ times to simulate Binomial distributed data."
   ]
  },
  {
   "cell_type": "code",
   "execution_count": 11,
   "metadata": {},
   "outputs": [],
   "source": [
    "def run_experiment(n, p):\n",
    "    'Flip the coins n times and return the number of heads.'\n",
    "    coins = [flip_coin(p) for _ in range(n)]\n",
    "    return Counter(coins)['H']"
   ]
  },
  {
   "cell_type": "code",
   "execution_count": 12,
   "metadata": {},
   "outputs": [
    {
     "data": {
      "text/plain": [
       "16"
      ]
     },
     "execution_count": 12,
     "metadata": {},
     "output_type": "execute_result"
    }
   ],
   "source": [
    "run_experiment(n, p)"
   ]
  },
  {
   "cell_type": "markdown",
   "metadata": {},
   "source": [
    "The result of each experiment is a sample drawn from a Binomial distribution $B(n,p)$."
   ]
  },
  {
   "cell_type": "code",
   "execution_count": 13,
   "metadata": {},
   "outputs": [],
   "source": [
    "import matplotlib.pyplot as plt\n",
    "%matplotlib inline\n",
    "\n",
    "def draw_barchart(data):\n",
    "    counts = Counter(data)\n",
    "    plt.bar(counts.keys(), counts.values(), width=0.9)\n",
    "    plt.show()    "
   ]
  },
  {
   "cell_type": "code",
   "execution_count": 14,
   "metadata": {},
   "outputs": [
    {
     "data": {
      "image/png": "[encoded data removed]",
      "text/plain": [
       "<Figure size 432x288 with 1 Axes>"
      ]
     },
     "metadata": {
      "needs_background": "light"
     },
     "output_type": "display_data"
    }
   ],
   "source": [
    "sample_size = 1000\n",
    "data = [run_experiment(n, p) for _ in range(sample_size)] \n",
    "draw_barchart(data)"
   ]
  },
  {
   "cell_type": "markdown",
   "metadata": {},
   "source": [
    "Just to double check with `numpy` library."
   ]
  },
  {
   "cell_type": "code",
   "execution_count": 15,
   "metadata": {},
   "outputs": [
    {
     "data": {
      "image/png": "[encoded data removed]",
      "text/plain": [
       "<Figure size 432x288 with 1 Axes>"
      ]
     },
     "metadata": {
      "needs_background": "light"
     },
     "output_type": "display_data"
    }
   ],
   "source": [
    "import numpy as np\n",
    "data = np.random.binomial(n=n, p=p, size=sample_size)\n",
    "draw_barchart(data)"
   ]
  },
  {
   "cell_type": "markdown",
   "metadata": {},
   "source": [
    "## Q-Q Plot"
   ]
  },
  {
   "cell_type": "markdown",
   "metadata": {},
   "source": [
    "#### Task: Draw a qq plot"
   ]
  },
  {
   "cell_type": "markdown",
   "metadata": {},
   "source": [
    "First, generate 100 random numbers following the standard normal distribution."
   ]
  },
  {
   "cell_type": "code",
   "execution_count": 16,
   "metadata": {},
   "outputs": [
    {
     "data": {
      "text/plain": [
       "array([ 0.77430869, -1.46865927, -1.71043576,  0.356921  ,  1.5376998 ,\n",
       "        0.17789004, -1.8947537 ,  0.22221953, -1.04507286, -0.06111502,\n",
       "        0.93853537, -2.28368409, -1.58961287, -1.05683548,  0.10045367,\n",
       "        0.60583994,  0.38056964, -0.06323351,  0.13890642,  0.76204487,\n",
       "        1.52846609, -0.1438561 , -0.35248457,  0.46339654,  0.99976908,\n",
       "       -0.34647215,  0.40842762, -0.66711752, -0.96827275, -1.25992621,\n",
       "        0.19248653,  0.75853484,  0.04700852, -0.58096223,  0.49377443,\n",
       "        0.1391175 ,  1.21675729, -0.57868192, -1.11908663,  0.14415143,\n",
       "        0.23359909,  0.42708864,  0.15611708,  0.14786236, -0.77095853,\n",
       "       -0.76099631, -0.33726721, -0.71934905,  0.52731587,  0.52716798,\n",
       "        0.5427077 , -0.39567042,  0.48470395,  0.45315612,  2.23637629,\n",
       "       -0.35585573, -2.05734451, -1.68762338,  0.38018543, -1.00316307,\n",
       "        0.15817831,  2.21121871, -0.12527744,  0.45012949,  1.1845669 ,\n",
       "       -0.19511696,  0.01474174, -0.39360904, -0.44373084,  1.26334227,\n",
       "        0.1557443 ,  0.31899872,  0.64914273,  2.36571901,  0.84105285,\n",
       "       -1.62712618, -0.15664948,  0.27833692, -1.11749143,  0.50309609,\n",
       "        0.43494339,  2.62484902,  0.19213999,  0.55902951,  0.91033173,\n",
       "       -0.73578541,  0.04760678, -0.62182436,  1.37237119, -1.49575267,\n",
       "        0.90160021, -2.016924  , -0.05590928,  1.58476542, -0.16054357,\n",
       "        0.49215503,  0.27670681,  2.19206021, -0.80805022,  0.64712291])"
      ]
     },
     "execution_count": 16,
     "metadata": {},
     "output_type": "execute_result"
    }
   ],
   "source": [
    "data = np.random.normal(0, 1, 100)\n",
    "data"
   ]
  },
  {
   "cell_type": "code",
   "execution_count": 17,
   "metadata": {},
   "outputs": [
    {
     "data": {
      "text/plain": [
       "[-2.283684085787372,\n",
       " -2.0573445105691057,\n",
       " -2.016923998110705,\n",
       " -1.8947536955447852,\n",
       " -1.7104357623494102,\n",
       " -1.6876233826855604,\n",
       " -1.6271261818677984,\n",
       " -1.589612873943174,\n",
       " -1.4957526711861484,\n",
       " -1.468659267179325,\n",
       " -1.259926206878418,\n",
       " -1.1190866254366834,\n",
       " -1.1174914311422386,\n",
       " -1.0568354805693612,\n",
       " -1.0450728579602426,\n",
       " -1.0031630664062847,\n",
       " -0.9682727508289823,\n",
       " -0.8080502158283596,\n",
       " -0.7709585329316652,\n",
       " -0.7609963059717588,\n",
       " -0.7357854101338953,\n",
       " -0.7193490496328648,\n",
       " -0.6671175231783114,\n",
       " -0.6218243563245849,\n",
       " -0.5809622344846291,\n",
       " -0.5786819180633882,\n",
       " -0.44373084214809366,\n",
       " -0.3956704215256808,\n",
       " -0.3936090377621975,\n",
       " -0.35585573003345694,\n",
       " -0.35248456823685054,\n",
       " -0.34647214590562075,\n",
       " -0.3372672115180765,\n",
       " -0.19511696061217174,\n",
       " -0.16054356897606042,\n",
       " -0.15664948308874538,\n",
       " -0.14385610244776836,\n",
       " -0.12527744264924012,\n",
       " -0.0632335124042451,\n",
       " -0.06111501918650478,\n",
       " -0.05590927530716384,\n",
       " 0.014741741892806774,\n",
       " 0.04700851706390216,\n",
       " 0.04760678006478283,\n",
       " 0.10045366950066605,\n",
       " 0.138906420344299,\n",
       " 0.13911749636382068,\n",
       " 0.14415142984179596,\n",
       " 0.14786236486679497,\n",
       " 0.15574430364111289,\n",
       " 0.15611708103023086,\n",
       " 0.15817831280350403,\n",
       " 0.17789003654002972,\n",
       " 0.19213999214811706,\n",
       " 0.19248652621713652,\n",
       " 0.22221953253367902,\n",
       " 0.23359908803825036,\n",
       " 0.27670680743262455,\n",
       " 0.27833691969403934,\n",
       " 0.31899871509905253,\n",
       " 0.35692100336450266,\n",
       " 0.38018543010744416,\n",
       " 0.38056963517484954,\n",
       " 0.40842761783709747,\n",
       " 0.42708863525527735,\n",
       " 0.43494339206893917,\n",
       " 0.4501294856510806,\n",
       " 0.45315612449264336,\n",
       " 0.46339654162627386,\n",
       " 0.48470394748315315,\n",
       " 0.492155030918793,\n",
       " 0.49377443369645363,\n",
       " 0.5030960931088053,\n",
       " 0.5271679849666749,\n",
       " 0.5273158651531666,\n",
       " 0.5427077031214091,\n",
       " 0.5590295107250748,\n",
       " 0.6058399402424473,\n",
       " 0.6471229109048336,\n",
       " 0.6491427291324914,\n",
       " 0.7585348433521527,\n",
       " 0.7620448654937967,\n",
       " 0.7743086939981136,\n",
       " 0.8410528524799097,\n",
       " 0.9016002055582463,\n",
       " 0.9103317331538754,\n",
       " 0.9385353660048827,\n",
       " 0.999769078173056,\n",
       " 1.1845669029651407,\n",
       " 1.2167572908193138,\n",
       " 1.2633422744168774,\n",
       " 1.372371193122832,\n",
       " 1.5284660894265478,\n",
       " 1.5376998043769718,\n",
       " 1.5847654243533003,\n",
       " 2.192060205594202,\n",
       " 2.2112187135593446,\n",
       " 2.2363762900875344,\n",
       " 2.3657190101602854,\n",
       " 2.6248490232878883]"
      ]
     },
     "execution_count": 17,
     "metadata": {},
     "output_type": "execute_result"
    }
   ],
   "source": [
    "sorted_data = sorted(data)\n",
    "sorted_data"
   ]
  },
  {
   "cell_type": "markdown",
   "metadata": {},
   "source": [
    "We need to find the theoretical quantiles of the normal distribution. We expect 100 random numbers that follow a normal distribution should be evenly distributed in the 'bell shape'. We split the distribution into 100 equal segments and find the z-score corresponding to each (middle of the) segment."
   ]
  },
  {
   "cell_type": "code",
   "execution_count": 18,
   "metadata": {},
   "outputs": [
    {
     "data": {
      "text/plain": [
       "array([0.005, 0.015, 0.025, 0.035, 0.045, 0.055, 0.065, 0.075, 0.085,\n",
       "       0.095, 0.105, 0.115, 0.125, 0.135, 0.145, 0.155, 0.165, 0.175,\n",
       "       0.185, 0.195, 0.205, 0.215, 0.225, 0.235, 0.245, 0.255, 0.265,\n",
       "       0.275, 0.285, 0.295, 0.305, 0.315, 0.325, 0.335, 0.345, 0.355,\n",
       "       0.365, 0.375, 0.385, 0.395, 0.405, 0.415, 0.425, 0.435, 0.445,\n",
       "       0.455, 0.465, 0.475, 0.485, 0.495, 0.505, 0.515, 0.525, 0.535,\n",
       "       0.545, 0.555, 0.565, 0.575, 0.585, 0.595, 0.605, 0.615, 0.625,\n",
       "       0.635, 0.645, 0.655, 0.665, 0.675, 0.685, 0.695, 0.705, 0.715,\n",
       "       0.725, 0.735, 0.745, 0.755, 0.765, 0.775, 0.785, 0.795, 0.805,\n",
       "       0.815, 0.825, 0.835, 0.845, 0.855, 0.865, 0.875, 0.885, 0.895,\n",
       "       0.905, 0.915, 0.925, 0.935, 0.945, 0.955, 0.965, 0.975, 0.985,\n",
       "       0.995])"
      ]
     },
     "execution_count": 18,
     "metadata": {},
     "output_type": "execute_result"
    }
   ],
   "source": [
    "sampling_points = (np.arange(100) + 0.5) / 100\n",
    "sampling_points"
   ]
  },
  {
   "cell_type": "markdown",
   "metadata": {},
   "source": [
    "We use scipy to compute the z-score."
   ]
  },
  {
   "cell_type": "code",
   "execution_count": 19,
   "metadata": {},
   "outputs": [
    {
     "data": {
      "text/plain": [
       "[-2.575829303548901,\n",
       " -2.1700903775845606,\n",
       " -1.9599639845400545,\n",
       " -1.8119106729525978,\n",
       " -1.6953977102721358,\n",
       " -1.5981931399228175,\n",
       " -1.5141018876192835,\n",
       " -1.4395314709384563,\n",
       " -1.372203808998726,\n",
       " -1.3105791121681285,\n",
       " -1.2535654384704504,\n",
       " -1.200358858030859,\n",
       " -1.1503493803760079,\n",
       " -1.1030625561995975,\n",
       " -1.0581216176847767,\n",
       " -1.0152220332170279,\n",
       " -0.9741138770593092,\n",
       " -0.9345892910734802,\n",
       " -0.8964733640019162,\n",
       " -0.8596173642419115,\n",
       " -0.8238936303385574,\n",
       " -0.7891916526582226,\n",
       " -0.7554150263604693,\n",
       " -0.7224790519280627,\n",
       " -0.6903088239330339,\n",
       " -0.6588376927361878,\n",
       " -0.6280060144375695,\n",
       " -0.5977601260424784,\n",
       " -0.5680514983389829,\n",
       " -0.5388360302784503,\n",
       " -0.5100734569685949,\n",
       " -0.4817268495847303,\n",
       " -0.45376219016987945,\n",
       " -0.4261480078412781,\n",
       " -0.39885506564233686,\n",
       " -0.37185608938507475,\n",
       " -0.34512553147047237,\n",
       " -0.31863936396437514,\n",
       " -0.2923748962268042,\n",
       " -0.26631061320409494,\n",
       " -0.2404260311423079,\n",
       " -0.21470156800174456,\n",
       " -0.18911842627279252,\n",
       " -0.16365848623314128,\n",
       " -0.13830420796140452,\n",
       " -0.1130385406445651,\n",
       " -0.08784483789587168,\n",
       " -0.06270677794321385,\n",
       " -0.037608287661255936,\n",
       " -0.012533469508069276,\n",
       " 0.012533469508069276,\n",
       " 0.037608287661255936,\n",
       " 0.06270677794321385,\n",
       " 0.08784483789587182,\n",
       " 0.11303854064456524,\n",
       " 0.13830420796140466,\n",
       " 0.16365848623314114,\n",
       " 0.18911842627279238,\n",
       " 0.21470156800174442,\n",
       " 0.2404260311423079,\n",
       " 0.26631061320409494,\n",
       " 0.2923748962268042,\n",
       " 0.31863936396437514,\n",
       " 0.34512553147047237,\n",
       " 0.37185608938507475,\n",
       " 0.39885506564233686,\n",
       " 0.4261480078412783,\n",
       " 0.45376219016987956,\n",
       " 0.48172684958473044,\n",
       " 0.5100734569685946,\n",
       " 0.5388360302784502,\n",
       " 0.5680514983389827,\n",
       " 0.5977601260424784,\n",
       " 0.6280060144375695,\n",
       " 0.6588376927361878,\n",
       " 0.6903088239330339,\n",
       " 0.7224790519280627,\n",
       " 0.7554150263604693,\n",
       " 0.7891916526582226,\n",
       " 0.8238936303385574,\n",
       " 0.8596173642419117,\n",
       " 0.8964733640019161,\n",
       " 0.93458929107348,\n",
       " 0.9741138770593092,\n",
       " 1.0152220332170279,\n",
       " 1.0581216176847767,\n",
       " 1.1030625561995975,\n",
       " 1.1503493803760079,\n",
       " 1.200358858030859,\n",
       " 1.2535654384704504,\n",
       " 1.3105791121681285,\n",
       " 1.3722038089987263,\n",
       " 1.4395314709384563,\n",
       " 1.514101887619284,\n",
       " 1.5981931399228175,\n",
       " 1.6953977102721358,\n",
       " 1.8119106729525973,\n",
       " 1.959963984540054,\n",
       " 2.17009037758456,\n",
       " 2.5758293035489004]"
      ]
     },
     "execution_count": 19,
     "metadata": {},
     "output_type": "execute_result"
    }
   ],
   "source": [
    "import scipy.stats as st\n",
    "sampling_theoretical_quantiles = [st.norm.ppf(p) for p in sampling_points]\n",
    "sampling_theoretical_quantiles"
   ]
  },
  {
   "cell_type": "markdown",
   "metadata": {},
   "source": [
    "Now, just plot them in a scatter plot."
   ]
  },
  {
   "cell_type": "code",
   "execution_count": 20,
   "metadata": {},
   "outputs": [
    {
     "data": {
      "image/png": "[encoded data removed]",
      "text/plain": [
       "<Figure size 432x288 with 1 Axes>"
      ]
     },
     "metadata": {
      "needs_background": "light"
     },
     "output_type": "display_data"
    }
   ],
   "source": [
    "plt.scatter(sampling_theoretical_quantiles, sorted_data)\n",
    "plt.plot([-2.5, 2.5], [-2.5, 2.5], 'r')\n",
    "plt.show()"
   ]
  },
  {
   "cell_type": "markdown",
   "metadata": {},
   "source": [
    "Again, double check with a library. This time, it is [statsmodel](https://www.statsmodels.org/dev/generated/statsmodels.graphics.gofplots.qqplot.html)."
   ]
  },
  {
   "cell_type": "code",
   "execution_count": 22,
   "metadata": {},
   "outputs": [
    {
     "data": {
      "image/png": "[encoded data removed]",
      "text/plain": [
       "<Figure size 432x288 with 1 Axes>"
      ]
     },
     "metadata": {
      "needs_background": "light"
     },
     "output_type": "display_data"
    }
   ],
   "source": [
    "import statsmodels.api as sm\n",
    "\n",
    "sm.qqplot(data, line='r')\n",
    "plt.show()"
   ]
  },
  {
   "cell_type": "markdown",
   "metadata": {},
   "source": [
    "A bonus third way, we draw our data against another empirical normal distribution, with very different parameters. And we still see the points following a straight line!"
   ]
  },
  {
   "cell_type": "code",
   "execution_count": null,
   "metadata": {
    "collapsed": true
   },
   "outputs": [],
   "source": [
    "another_normal_data = np.random.normal(10, 101, 100)\n",
    "plt.scatter(sorted(another_normal_data), sorted_data)\n",
    "plt.show()"
   ]
  }
 ],
 "metadata": {
  "kernelspec": {
   "display_name": "Python 3",
   "language": "python",
   "name": "python3"
  },
  "language_info": {
   "codemirror_mode": {
    "name": "ipython",
    "version": 3
   },
   "file_extension": ".py",
   "mimetype": "text/x-python",
   "name": "python",
   "nbconvert_exporter": "python",
   "pygments_lexer": "ipython3",
   "version": "3.8.3"
  },
  "toc": {
   "base_numbering": 1,
   "nav_menu": {},
   "number_sections": false,
   "sideBar": true,
   "skip_h1_title": true,
   "title_cell": "Contents",
   "title_sidebar": "Contents",
   "toc_cell": false,
   "toc_position": {},
   "toc_section_display": true,
   "toc_window_display": false
  }
 },
 "nbformat": 4,
 "nbformat_minor": 2
}
