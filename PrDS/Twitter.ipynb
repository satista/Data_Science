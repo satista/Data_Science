{
 "cells": [
  {
   "cell_type": "code",
   "execution_count": null,
   "metadata": {},
   "outputs": [],
   "source": [
    "import pandas as pd\n",
    "\n",
    "\n",
    "df = pd.read_csv(r\"C:\\Users\\sathi\\Desktop\\2020-03-23-dataset.tsv\",sep='\\t')\n",
    "df "
   ]
  },
  {
   "cell_type": "code",
   "execution_count": null,
   "metadata": {},
   "outputs": [],
   "source": [
    "import tweepy\n",
    "consumer_key = \"bjV95aeoyFGt0MGA3k2U6gatb\"\n",
    "consumer_secret = \"Cxy1bnq4cGDQQIWwZU64v5Plj2bmACk7aFoRHmk1YqphhcdB2Q\"\n",
    "auth = tweepy.OAuthHandler(consumer_key, consumer_secret)\n",
    "auth.set_access_token(\"478753428-mbB9LOGs5MPBBQMCTqApc6Xl2azTB6SrvE9m00PR\",\"aIATQQAan04O6f2QGoiGBqCnwBq2Jl7ETMTM0C0dYVlU7\")"
   ]
  },
  {
   "cell_type": "code",
   "execution_count": null,
   "metadata": {},
   "outputs": [],
   "source": [
    "import numpy as np\n",
    "import random\n",
    "#get a sample of the 500 tweets data \n",
    "rand = df[df.index.isin(random.sample(range(0,len(df)),500))]\n",
    "rand"
   ]
  },
  {
   "cell_type": "code",
   "execution_count": null,
   "metadata": {},
   "outputs": [],
   "source": [
    "api= tweepy.API(auth)"
   ]
  },
  {
   "cell_type": "code",
   "execution_count": null,
   "metadata": {},
   "outputs": [],
   "source": [
    "i=0\n",
    "for tweet_id in rand.tweet_id.values.tolist():\n",
    "    try:\n",
    "        tweet = api.get_status(tweet_id)\n",
    "        #check if the language is english\n",
    "        if tweet.lang == \"en\":\n",
    "            coord = \"\" if tweet.geo == None else tweet.geo\n",
    "            print(coord+\" \"+tweet.text)\n",
    "    except tweepy.TweepError as e:\n",
    "        print(e.reason)\n",
    "        i+=1\n",
    "        if i==10:\n",
    "            break"
   ]
  },
  {
   "cell_type": "code",
   "execution_count": null,
   "metadata": {},
   "outputs": [],
   "source": [
    "tweet.geo#coordinates"
   ]
  },
  {
   "cell_type": "code",
   "execution_count": null,
   "metadata": {},
   "outputs": [],
   "source": [
    "tweets = tweepy.Cursor(api.search, q=\"#covid\",lang=\"en\",since=\"2020-10-26\").items(10)\n",
    "for tweet in tweets:\n",
    "    print(tweet.truncated)\n",
    "    print(tweet.retweeted)\n",
    "    print(tweet.entities)"
   ]
  },
  {
   "cell_type": "code",
   "execution_count": null,
   "metadata": {},
   "outputs": [],
   "source": [
    "t = api.get_status(1242300940507643905)\n",
    "t.text"
   ]
  },
  {
   "cell_type": "code",
   "execution_count": null,
   "metadata": {},
   "outputs": [],
   "source": []
  }
 ],
 "metadata": {
  "kernelspec": {
   "display_name": "Python 3",
   "language": "python",
   "name": "python3"
  },
  "language_info": {
   "codemirror_mode": {
    "name": "ipython",
    "version": 3
   },
   "file_extension": ".py",
   "mimetype": "text/x-python",
   "name": "python",
   "nbconvert_exporter": "python",
   "pygments_lexer": "ipython3",
   "version": "3.7.2"
  }
 },
 "nbformat": 4,
 "nbformat_minor": 4
}
